{
 "cells": [
  {
   "cell_type": "markdown",
   "id": "5608dc03-86ba-4eac-966a-c78a0e9297d5",
   "metadata": {},
   "source": [
    "11.1 Create a file called zoo.py. In it, define a function called hours() that prints the string 'Open 9-5 daily'. Then, use the interactive interpreter to import the zoo module and call its hours() function."
   ]
  },
  {
   "cell_type": "code",
   "execution_count": null,
   "id": "8051f157-6825-4575-af61-98ae8a5cf622",
   "metadata": {},
   "outputs": [],
   "source": [
    ">>> import zoo\n",
    ">>> zoo.hours()\n",
    "# will show Open 9-5 daily\n"
   ]
  },
  {
   "cell_type": "markdown",
   "id": "4fe6dcae-686d-4f04-b073-7c15f3a3262f",
   "metadata": {},
   "source": [
    "11.2 In the interactive interpreter, import the zoo module as menagerie and call its hours() function."
   ]
  },
  {
   "cell_type": "code",
   "execution_count": null,
   "id": "ef6bf1db-fcdc-45f1-b410-f1b4638a1405",
   "metadata": {},
   "outputs": [],
   "source": [
    ">>> import zoo as menagerie\n"
   ]
  },
  {
   "cell_type": "code",
   "execution_count": null,
   "id": "796973c1-7079-4bc6-b39b-5ab3122b9774",
   "metadata": {},
   "outputs": [],
   "source": [
    ">>> menagerie.hours()\n",
    "# will show Open 9-5 daily\n"
   ]
  },
  {
   "cell_type": "markdown",
   "id": "952e40c5-a9ce-464c-b61e-0cdc0d9174f7",
   "metadata": {},
   "source": [
    "16.8 Use the sqlalchemy module to connect to the sqlite3 database books.db that you just made in exercise 16.4. As in 16.6, select and print the title column from the book table in alphabetical order."
   ]
  },
  {
   "cell_type": "code",
   "execution_count": null,
   "id": "d9c8c645-c7c0-442b-9a92-af62b6288399",
   "metadata": {},
   "outputs": [],
   "source": [
    "from sqlalchemy import create_engine, Table, MetaData, select\n",
    "\n",
    "# Create an engine that connects to the books.db SQLite database\n",
    "engine = create_engine('sqlite:///books.db', echo=True)\n",
    "\n",
    "# Create a metadata object\n",
    "metadata = MetaData()\n",
    "\n",
    "# Reflect the table from the database\n",
    "books = Table('books', metadata, autoload=True, autoload_with=engine)\n",
    "\n",
    "# Create a connection object\n",
    "with engine.connect() as connection:\n",
    "    # Equivalent to: SELECT title FROM books ORDER BY title ASC;\n",
    "    stmt = select([books.c.title]).order_by(books.c.title.asc())\n",
    "    \n",
    "    # Execute the statement and fetch all results\n",
    "    results = connection.execute(stmt).fetchall()\n",
    "    \n",
    "    # Print the title column from the results\n",
    "    for row in results:\n",
    "        print(row.title)\n"
   ]
  }
 ],
 "metadata": {
  "kernelspec": {
   "display_name": "Python 3 (ipykernel)",
   "language": "python",
   "name": "python3"
  },
  "language_info": {
   "codemirror_mode": {
    "name": "ipython",
    "version": 3
   },
   "file_extension": ".py",
   "mimetype": "text/x-python",
   "name": "python",
   "nbconvert_exporter": "python",
   "pygments_lexer": "ipython3",
   "version": "3.11.7"
  }
 },
 "nbformat": 4,
 "nbformat_minor": 5
}
